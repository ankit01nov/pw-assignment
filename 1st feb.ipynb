{
 "cells": [
  {
   "cell_type": "code",
   "execution_count": 1,
   "id": "26ba7f57-e5ee-4aa7-8a9f-54c17f288338",
   "metadata": {},
   "outputs": [],
   "source": [
    "d={}"
   ]
  },
  {
   "cell_type": "code",
   "execution_count": 4,
   "id": "94c47ec3-8c3a-4625-bc80-d9af0cfe0363",
   "metadata": {},
   "outputs": [
    {
     "data": {
      "text/plain": [
       "dict"
      ]
     },
     "execution_count": 4,
     "metadata": {},
     "output_type": "execute_result"
    }
   ],
   "source": [
    "type(d)"
   ]
  },
  {
   "cell_type": "code",
   "execution_count": 3,
   "id": "7347f2eb-49f7-473f-bedb-a521dd999c3d",
   "metadata": {},
   "outputs": [
    {
     "data": {
      "text/plain": [
       "{}"
      ]
     },
     "execution_count": 3,
     "metadata": {},
     "output_type": "execute_result"
    }
   ],
   "source": [
    "d"
   ]
  },
  {
   "cell_type": "code",
   "execution_count": 5,
   "id": "bc86d7a3-e9d8-45b6-9a1b-87fc81027eaa",
   "metadata": {},
   "outputs": [],
   "source": [
    "d1={'key':\"sudh\"}"
   ]
  },
  {
   "cell_type": "code",
   "execution_count": 6,
   "id": "915e0590-44ee-4e1d-b110-603407b18c7b",
   "metadata": {},
   "outputs": [
    {
     "data": {
      "text/plain": [
       "{'key': 'sudh'}"
      ]
     },
     "execution_count": 6,
     "metadata": {},
     "output_type": "execute_result"
    }
   ],
   "source": [
    "d1"
   ]
  },
  {
   "cell_type": "code",
   "execution_count": 11,
   "id": "3629467a-80c6-4a36-937d-13420000e511",
   "metadata": {},
   "outputs": [],
   "source": [
    "d2={\"name\":\"ankit\",\"email\":\"ankit01nov@gmail.com\",\"numer\":\"9999123\"}"
   ]
  },
  {
   "cell_type": "code",
   "execution_count": 12,
   "id": "3e411d38-9765-43e5-8152-c7e7fee79699",
   "metadata": {},
   "outputs": [
    {
     "data": {
      "text/plain": [
       "{'name': 'ankit', 'email': 'ankit01nov@gmail.com', 'numer': '9999123'}"
      ]
     },
     "execution_count": 12,
     "metadata": {},
     "output_type": "execute_result"
    }
   ],
   "source": [
    "d2"
   ]
  },
  {
   "cell_type": "code",
   "execution_count": 21,
   "id": "ace769be-eb24-4156-b352-fb3c9eb77b70",
   "metadata": {},
   "outputs": [],
   "source": [
    "d3={234:\"sudh\",\"key\":\"value\",True:12334,5+5j:13456}"
   ]
  },
  {
   "cell_type": "code",
   "execution_count": 18,
   "id": "a8a95b0e-09cb-47ae-8cdb-8cbfba304d7a",
   "metadata": {},
   "outputs": [
    {
     "data": {
      "text/plain": [
       "{234: 'sudh', 'key': 'value', 'true': 12334}"
      ]
     },
     "execution_count": 18,
     "metadata": {},
     "output_type": "execute_result"
    }
   ],
   "source": [
    "d3"
   ]
  },
  {
   "cell_type": "code",
   "execution_count": 20,
   "id": "71809263-55c2-46ac-999d-c03bd4906543",
   "metadata": {},
   "outputs": [
    {
     "data": {
      "text/plain": [
       "{234: 'sudh', 'key': 'value', True: 12334}"
      ]
     },
     "execution_count": 20,
     "metadata": {},
     "output_type": "execute_result"
    }
   ],
   "source": [
    "d3"
   ]
  },
  {
   "cell_type": "code",
   "execution_count": 23,
   "id": "c95b2bce-c72f-46cb-8824-3db111afd5fe",
   "metadata": {},
   "outputs": [
    {
     "data": {
      "text/plain": [
       "13456"
      ]
     },
     "execution_count": 23,
     "metadata": {},
     "output_type": "execute_result"
    }
   ],
   "source": [
    "d3[5+5j]"
   ]
  },
  {
   "cell_type": "code",
   "execution_count": 25,
   "id": "79327e02-0ed5-41fc-89b4-406d0567dec6",
   "metadata": {},
   "outputs": [
    {
     "data": {
      "text/plain": [
       "'value'"
      ]
     },
     "execution_count": 25,
     "metadata": {},
     "output_type": "execute_result"
    }
   ],
   "source": [
    "d3[\"key\"]"
   ]
  },
  {
   "cell_type": "code",
   "execution_count": 27,
   "id": "8a7e1cde-c7a5-49d5-9351-542ecd021618",
   "metadata": {},
   "outputs": [
    {
     "data": {
      "text/plain": [
       "12334"
      ]
     },
     "execution_count": 27,
     "metadata": {},
     "output_type": "execute_result"
    }
   ],
   "source": [
    "d3[1]"
   ]
  },
  {
   "cell_type": "code",
   "execution_count": 28,
   "id": "420dd03a-4eb8-484d-a868-d96afd56bdd0",
   "metadata": {},
   "outputs": [
    {
     "ename": "KeyError",
     "evalue": "-1",
     "output_type": "error",
     "traceback": [
      "\u001b[0;31m---------------------------------------------------------------------------\u001b[0m",
      "\u001b[0;31mKeyError\u001b[0m                                  Traceback (most recent call last)",
      "Cell \u001b[0;32mIn [28], line 1\u001b[0m\n\u001b[0;32m----> 1\u001b[0m \u001b[43md3\u001b[49m\u001b[43m[\u001b[49m\u001b[38;5;241;43m-\u001b[39;49m\u001b[38;5;241;43m1\u001b[39;49m\u001b[43m]\u001b[49m\n",
      "\u001b[0;31mKeyError\u001b[0m: -1"
     ]
    }
   ],
   "source": [
    "d3[-1]"
   ]
  },
  {
   "cell_type": "code",
   "execution_count": 33,
   "id": "78b6f5b5-21cc-4199-a8cf-23b2250dc212",
   "metadata": {},
   "outputs": [],
   "source": [
    "d4={\"name\":\"sudh\",\"mail_id\":\"aa@gmail.com\",\"name\":\"ankit\"}"
   ]
  },
  {
   "cell_type": "code",
   "execution_count": 34,
   "id": "c03da2ba-af8b-493f-a44b-05f0a17a377e",
   "metadata": {},
   "outputs": [
    {
     "data": {
      "text/plain": [
       "'ankit'"
      ]
     },
     "execution_count": 34,
     "metadata": {},
     "output_type": "execute_result"
    }
   ],
   "source": [
    "d4[\"name\"]"
   ]
  },
  {
   "cell_type": "code",
   "execution_count": 2,
   "id": "6e82850b-2783-4781-8b5f-0cd6e515eebb",
   "metadata": {},
   "outputs": [],
   "source": [
    "d5={\"campnay\":\"pwslskills\",\"course\":[\"web\",\"data science\",\"javawith dsa\"]}"
   ]
  },
  {
   "cell_type": "code",
   "execution_count": 3,
   "id": "0d00999c-4967-4d18-af6e-d6e82071f4e8",
   "metadata": {},
   "outputs": [
    {
     "data": {
      "text/plain": [
       "{'campnay': 'pwslskills', 'course': ['web', 'data science', 'javawith dsa']}"
      ]
     },
     "execution_count": 3,
     "metadata": {},
     "output_type": "execute_result"
    }
   ],
   "source": [
    "d5"
   ]
  },
  {
   "cell_type": "code",
   "execution_count": 8,
   "id": "ca5b39b8-61da-4d7d-ac52-3772d9d90616",
   "metadata": {},
   "outputs": [
    {
     "data": {
      "text/plain": [
       "'javawith dsa'"
      ]
     },
     "execution_count": 8,
     "metadata": {},
     "output_type": "execute_result"
    }
   ],
   "source": [
    "d5[\"course\"][2]"
   ]
  },
  {
   "cell_type": "code",
   "execution_count": 12,
   "id": "6ca5a1e5-d8e5-487a-9c36-fb6cadf571f5",
   "metadata": {},
   "outputs": [],
   "source": [
    "d6={\"number\":[1,2,3,4,6],\"assignemet\":(1,2,3,4,5,8),\"lauch_date\":{28,12,14},\"class_time\":{\"web s\":8,\"datascience\":8,\"javawith dsa\":9}}"
   ]
  },
  {
   "cell_type": "code",
   "execution_count": 13,
   "id": "9e5d7a71-c97e-4bd3-8dff-15a34716ea73",
   "metadata": {},
   "outputs": [
    {
     "data": {
      "text/plain": [
       "{'number': [1, 2, 3, 4, 6],\n",
       " 'assignemet': (1, 2, 3, 4, 5, 8),\n",
       " 'lauch_date': {12, 14, 28},\n",
       " 'class_time': {'web s': 8, 'datascience': 8, 'javawith dsa': 9}}"
      ]
     },
     "execution_count": 13,
     "metadata": {},
     "output_type": "execute_result"
    }
   ],
   "source": [
    "d6"
   ]
  },
  {
   "cell_type": "code",
   "execution_count": 14,
   "id": "8fcbbccd-a31a-4f66-af40-4206662d1b76",
   "metadata": {},
   "outputs": [
    {
     "data": {
      "text/plain": [
       "9"
      ]
     },
     "execution_count": 14,
     "metadata": {},
     "output_type": "execute_result"
    }
   ],
   "source": [
    "d6[\"class_time\"]['javawith dsa']"
   ]
  },
  {
   "cell_type": "code",
   "execution_count": 15,
   "id": "77e5b5d4-8b26-4a26-be42-f36197a36dc6",
   "metadata": {},
   "outputs": [
    {
     "data": {
      "text/plain": [
       "{'number': [1, 2, 3, 4, 6],\n",
       " 'assignemet': (1, 2, 3, 4, 5, 8),\n",
       " 'lauch_date': {12, 14, 28},\n",
       " 'class_time': {'web s': 8, 'datascience': 8, 'javawith dsa': 9}}"
      ]
     },
     "execution_count": 15,
     "metadata": {},
     "output_type": "execute_result"
    }
   ],
   "source": [
    "d6"
   ]
  },
  {
   "cell_type": "code",
   "execution_count": 16,
   "id": "a90ffd69-2730-41b1-9f54-182ef7e3ec1e",
   "metadata": {},
   "outputs": [],
   "source": [
    "d6[\"mentor\"]=[\"ankit\",\"mayank\",\"nitin\"]"
   ]
  },
  {
   "cell_type": "code",
   "execution_count": 17,
   "id": "c84c6ec3-9043-4181-a656-f314238f5731",
   "metadata": {},
   "outputs": [
    {
     "data": {
      "text/plain": [
       "{'number': [1, 2, 3, 4, 6],\n",
       " 'assignemet': (1, 2, 3, 4, 5, 8),\n",
       " 'lauch_date': {12, 14, 28},\n",
       " 'class_time': {'web s': 8, 'datascience': 8, 'javawith dsa': 9},\n",
       " 'mentor': ['ankit', 'mayank', 'nitin']}"
      ]
     },
     "execution_count": 17,
     "metadata": {},
     "output_type": "execute_result"
    }
   ],
   "source": [
    "d6"
   ]
  },
  {
   "cell_type": "code",
   "execution_count": 19,
   "id": "26138e1f-ae2c-4c93-9396-fbdb6d450fd9",
   "metadata": {},
   "outputs": [],
   "source": [
    "del d6[\"number\"]"
   ]
  },
  {
   "cell_type": "code",
   "execution_count": 20,
   "id": "acd6fbcb-fb7b-4dc8-9ac9-3ad8662f7770",
   "metadata": {},
   "outputs": [
    {
     "data": {
      "text/plain": [
       "{'assignemet': (1, 2, 3, 4, 5, 8),\n",
       " 'lauch_date': {12, 14, 28},\n",
       " 'class_time': {'web s': 8, 'datascience': 8, 'javawith dsa': 9},\n",
       " 'mentor': ['ankit', 'mayank', 'nitin']}"
      ]
     },
     "execution_count": 20,
     "metadata": {},
     "output_type": "execute_result"
    }
   ],
   "source": [
    "d6"
   ]
  },
  {
   "cell_type": "code",
   "execution_count": 24,
   "id": "44a0380a-b64c-46e8-86d4-2df6ae2fc524",
   "metadata": {},
   "outputs": [
    {
     "data": {
      "text/plain": [
       "['assignemet', 'lauch_date', 'class_time', 'mentor']"
      ]
     },
     "execution_count": 24,
     "metadata": {},
     "output_type": "execute_result"
    }
   ],
   "source": [
    "list(d6.keys())"
   ]
  },
  {
   "cell_type": "code",
   "execution_count": 25,
   "id": "0d99a578-2e58-4ac1-8ac1-d3ce35fb4dd8",
   "metadata": {},
   "outputs": [
    {
     "data": {
      "text/plain": [
       "[('assignemet', (1, 2, 3, 4, 5, 8)),\n",
       " ('lauch_date', {12, 14, 28}),\n",
       " ('class_time', {'web s': 8, 'datascience': 8, 'javawith dsa': 9}),\n",
       " ('mentor', ['ankit', 'mayank', 'nitin'])]"
      ]
     },
     "execution_count": 25,
     "metadata": {},
     "output_type": "execute_result"
    }
   ],
   "source": [
    "list(d6.items())"
   ]
  },
  {
   "cell_type": "code",
   "execution_count": 28,
   "id": "1cc8899e-0207-4c5e-82a6-be1d23efd98b",
   "metadata": {},
   "outputs": [
    {
     "data": {
      "text/plain": [
       "[(1, 2, 3, 4, 5, 8),\n",
       " {12, 14, 28},\n",
       " {'web s': 8, 'datascience': 8, 'javawith dsa': 9},\n",
       " ['ankit', 'mayank', 'nitin']]"
      ]
     },
     "execution_count": 28,
     "metadata": {},
     "output_type": "execute_result"
    }
   ],
   "source": [
    "list(d6.values())"
   ]
  },
  {
   "cell_type": "code",
   "execution_count": 30,
   "id": "1b92a0ca-ede4-4690-bed9-510a62ef5743",
   "metadata": {},
   "outputs": [
    {
     "data": {
      "text/plain": [
       "(1, 2, 3, 4, 5, 8)"
      ]
     },
     "execution_count": 30,
     "metadata": {},
     "output_type": "execute_result"
    }
   ],
   "source": [
    "d6.pop(\"assignemet\")"
   ]
  },
  {
   "cell_type": "code",
   "execution_count": 31,
   "id": "4773cfb0-9ca3-425e-91f5-18768be20e6c",
   "metadata": {},
   "outputs": [
    {
     "data": {
      "text/plain": [
       "{'lauch_date': {12, 14, 28},\n",
       " 'class_time': {'web s': 8, 'datascience': 8, 'javawith dsa': 9},\n",
       " 'mentor': ['ankit', 'mayank', 'nitin']}"
      ]
     },
     "execution_count": 31,
     "metadata": {},
     "output_type": "execute_result"
    }
   ],
   "source": [
    "d6"
   ]
  },
  {
   "cell_type": "code",
   "execution_count": 36,
   "id": "6f466c25-ccfb-4078-bd4a-3c9e8ac4ea50",
   "metadata": {},
   "outputs": [
    {
     "name": "stdin",
     "output_type": "stream",
     "text": [
      "enter your marks 45\n"
     ]
    },
    {
     "name": "stdout",
     "output_type": "stream",
     "text": [
      "you will be part of a2 batch\n"
     ]
    }
   ],
   "source": [
    "marks =int(input(\"enter your marks\"))\n",
    "if marks >=80:\n",
    "    print(\"you will be part of a0 batch\")\n",
    "elif marks >=60 and marks < 80:\n",
    "    print(\"you will be part of a1 batch\")\n",
    "elif marks >=40 and marks < 60:\n",
    "    print(\"you will be part of a2 batch\")\n",
    "else   :\n",
    "    print(\"you will be part of a3 batch\")"
   ]
  },
  {
   "cell_type": "code",
   "execution_count": 4,
   "id": "ce79a77d-a2b5-4307-8f83-62c534ebb115",
   "metadata": {},
   "outputs": [
    {
     "name": "stdin",
     "output_type": "stream",
     "text": [
      " ente your price 500\n"
     ]
    },
    {
     "name": "stdout",
     "output_type": "stream",
     "text": [
      "i will not \n"
     ]
    }
   ],
   "source": [
    "price =int(input(\" ente your price\"))\n",
    "if price >1000:\n",
    "    print(\"i will buy this product\")\n",
    "else:\n",
    "    print(\"i will not \")"
   ]
  },
  {
   "cell_type": "code",
   "execution_count": 6,
   "id": "c6a94ac9-c64f-4f3e-8dc3-1efc75d42bd0",
   "metadata": {},
   "outputs": [
    {
     "name": "stdin",
     "output_type": "stream",
     "text": [
      "enter your price 5000\n"
     ]
    },
    {
     "name": "stdout",
     "output_type": "stream",
     "text": [
      "i will not buy this\n"
     ]
    }
   ],
   "source": [
    "price=int(input(\"enter your price\"))\n",
    "if price<=1000:\n",
    "    print(\"i will buy this\")\n",
    "elif price >1000 and price<=5000:\n",
    "    print(\"i will not buy this\")\n",
    "\n"
   ]
  },
  {
   "cell_type": "code",
   "execution_count": 12,
   "id": "fdbca735-3f3c-4035-9dd6-8df109d90c5a",
   "metadata": {},
   "outputs": [
    {
     "name": "stdin",
     "output_type": "stream",
     "text": [
      " ente your price 1900\n"
     ]
    },
    {
     "name": "stdout",
     "output_type": "stream",
     "text": [
      "i will not buy this product\n",
      "it's ok price\n"
     ]
    }
   ],
   "source": [
    "price =int(input(\" ente your price\"))\n",
    "if price >1000:\n",
    "    print(\"i will not buy this product\")\n",
    "    if price>5000:\n",
    "        print(\"this is too much\")\n",
    "    elif price<2000:\n",
    "        print(\"it's ok price\")\n",
    "else:\n",
    "    print (\"i will but this\")\n",
    "        "
   ]
  },
  {
   "cell_type": "code",
   "execution_count": 13,
   "id": "7013fa2e-5181-46c4-8d0d-ebbea1873720",
   "metadata": {},
   "outputs": [],
   "source": [
    "a=[1,2,4,6,45,6]"
   ]
  },
  {
   "cell_type": "code",
   "execution_count": 20,
   "id": "e86f90b3-2554-4e96-8e08-18f64702a37e",
   "metadata": {},
   "outputs": [
    {
     "name": "stdout",
     "output_type": "stream",
     "text": [
      "2\n",
      "3\n",
      "5\n",
      "7\n",
      "46\n",
      "7\n"
     ]
    }
   ],
   "source": [
    "a1=[]\n",
    "for ankit in a:\n",
    "    print(ankit+1)\n",
    "    a1.append(ankit+1)\n"
   ]
  },
  {
   "cell_type": "code",
   "execution_count": 21,
   "id": "a6b4b146-86a4-4977-8ae2-ffe546f97da0",
   "metadata": {},
   "outputs": [
    {
     "data": {
      "text/plain": [
       "[2, 3, 5, 7, 46, 7]"
      ]
     },
     "execution_count": 21,
     "metadata": {},
     "output_type": "execute_result"
    }
   ],
   "source": [
    "a1"
   ]
  },
  {
   "cell_type": "code",
   "execution_count": 22,
   "id": "f2d5d40e-954e-4937-8bf6-7827be3a902a",
   "metadata": {},
   "outputs": [
    {
     "data": {
      "text/plain": [
       "[1, 2, 4, 6, 45, 6]"
      ]
     },
     "execution_count": 22,
     "metadata": {},
     "output_type": "execute_result"
    }
   ],
   "source": [
    "a\n"
   ]
  },
  {
   "cell_type": "code",
   "execution_count": 24,
   "id": "bae73372-2b33-43cc-8685-2732a08612d5",
   "metadata": {},
   "outputs": [
    {
     "data": {
      "text/plain": [
       "1"
      ]
     },
     "execution_count": 24,
     "metadata": {},
     "output_type": "execute_result"
    }
   ],
   "source": [
    "a[0]"
   ]
  },
  {
   "cell_type": "code",
   "execution_count": 27,
   "id": "a02dfe52-4c1f-432d-9c26-ed55971da88b",
   "metadata": {},
   "outputs": [],
   "source": []
  },
  {
   "cell_type": "code",
   "execution_count": 28,
   "id": "d4c26ae1-688a-43a3-973c-19304d2ed89c",
   "metadata": {},
   "outputs": [
    {
     "data": {
      "text/plain": [
       "[2]"
      ]
     },
     "execution_count": 28,
     "metadata": {},
     "output_type": "execute_result"
    }
   ],
   "source": [
    "a2\n"
   ]
  },
  {
   "cell_type": "code",
   "execution_count": 29,
   "id": "5487e41a-9843-4324-819c-533124c21527",
   "metadata": {},
   "outputs": [
    {
     "data": {
      "text/plain": [
       "[1, 2, 4, 6, 45, 6]"
      ]
     },
     "execution_count": 29,
     "metadata": {},
     "output_type": "execute_result"
    }
   ],
   "source": [
    "a\n"
   ]
  },
  {
   "cell_type": "code",
   "execution_count": 30,
   "id": "68fb5d83-55cc-4ac8-a2af-14f50c63280c",
   "metadata": {},
   "outputs": [
    {
     "data": {
      "text/plain": [
       "2"
      ]
     },
     "execution_count": 30,
     "metadata": {},
     "output_type": "execute_result"
    }
   ],
   "source": [
    "a[0]+1"
   ]
  },
  {
   "cell_type": "code",
   "execution_count": 31,
   "id": "ba84c8f6-2412-4347-9110-9f6f2b3aaf63",
   "metadata": {},
   "outputs": [],
   "source": [
    "a2.append(a[0]+1)"
   ]
  },
  {
   "cell_type": "code",
   "execution_count": 32,
   "id": "98130190-4b9e-4a9c-941f-c6879437149e",
   "metadata": {},
   "outputs": [
    {
     "data": {
      "text/plain": [
       "[2, 2]"
      ]
     },
     "execution_count": 32,
     "metadata": {},
     "output_type": "execute_result"
    }
   ],
   "source": [
    "a2\n"
   ]
  },
  {
   "cell_type": "code",
   "execution_count": 33,
   "id": "009e644d-7bfc-46e0-bb16-3acfbb5ada4b",
   "metadata": {},
   "outputs": [
    {
     "data": {
      "text/plain": [
       "[1, 2, 4, 6, 45, 6]"
      ]
     },
     "execution_count": 33,
     "metadata": {},
     "output_type": "execute_result"
    }
   ],
   "source": [
    "a"
   ]
  },
  {
   "cell_type": "code",
   "execution_count": 40,
   "id": "d0c0392e-47ad-49a3-9818-f459432873ec",
   "metadata": {},
   "outputs": [
    {
     "name": "stdout",
     "output_type": "stream",
     "text": [
      "2\n",
      "3\n",
      "5\n",
      "7\n",
      "46\n",
      "7\n"
     ]
    }
   ],
   "source": [
    "s1=[]\n",
    "for s in a:\n",
    "    print(s+1)\n",
    "    s1.append(s+1)"
   ]
  },
  {
   "cell_type": "code",
   "execution_count": 41,
   "id": "c1d072c5-c39a-44aa-8116-880df31798dc",
   "metadata": {},
   "outputs": [
    {
     "data": {
      "text/plain": [
       "[2, 3, 5, 7, 46, 7]"
      ]
     },
     "execution_count": 41,
     "metadata": {},
     "output_type": "execute_result"
    }
   ],
   "source": [
    "s1"
   ]
  },
  {
   "cell_type": "code",
   "execution_count": 42,
   "id": "81486e09-bb63-438e-aa02-072deca113cb",
   "metadata": {},
   "outputs": [],
   "source": [
    "s=[\"ankit\",\"nitin\",\"golu\",\"sapna\"]"
   ]
  },
  {
   "cell_type": "code",
   "execution_count": 48,
   "id": "2f05e76e-bc6b-4b7c-a064-c28afc02f0f8",
   "metadata": {},
   "outputs": [
    {
     "name": "stdout",
     "output_type": "stream",
     "text": [
      "ankit\n",
      "nitin\n",
      "golu\n",
      "sapna\n"
     ]
    }
   ],
   "source": [
    "s1=[]\n",
    "for i in s:\n",
    "    print(i)\n",
    "    s1.append(i.upper())"
   ]
  },
  {
   "cell_type": "code",
   "execution_count": 49,
   "id": "72780f4a-8805-4c72-85cb-ff57be97177b",
   "metadata": {},
   "outputs": [
    {
     "data": {
      "text/plain": [
       "['ANKIT', 'NITIN', 'GOLU', 'SAPNA']"
      ]
     },
     "execution_count": 49,
     "metadata": {},
     "output_type": "execute_result"
    }
   ],
   "source": [
    "s1"
   ]
  },
  {
   "cell_type": "code",
   "execution_count": 50,
   "id": "48c1da90-f96f-4362-9cef-67e056ea8c64",
   "metadata": {},
   "outputs": [],
   "source": [
    "d=[1,3,6,9,5,5,\"ankit\",\"golu\",356.456,\"sapna\"]"
   ]
  },
  {
   "cell_type": "code",
   "execution_count": 54,
   "id": "effd8d2a-27a0-4c8d-94ca-7fd9f5d1f9af",
   "metadata": {},
   "outputs": [],
   "source": [
    "d1=[]\n",
    "d2=[]\n",
    "for i in d:\n",
    "    if type(i)==int or type(i)==float:\n",
    "        d1.append(i)\n",
    "    else:\n",
    "        d2.append(i)\n",
    "        \n",
    "        \n",
    "    "
   ]
  },
  {
   "cell_type": "code",
   "execution_count": 55,
   "id": "73152fdb-3f26-4bd1-aaa6-648a27dd1b4c",
   "metadata": {},
   "outputs": [
    {
     "data": {
      "text/plain": [
       "[1, 3, 6, 5, 356.456]"
      ]
     },
     "execution_count": 55,
     "metadata": {},
     "output_type": "execute_result"
    }
   ],
   "source": [
    "d1"
   ]
  },
  {
   "cell_type": "code",
   "execution_count": 56,
   "id": "08126a5a-f77b-40a4-90b3-e3606ff029a8",
   "metadata": {},
   "outputs": [
    {
     "data": {
      "text/plain": [
       "['ankit', 'golu', 'sapna']"
      ]
     },
     "execution_count": 56,
     "metadata": {},
     "output_type": "execute_result"
    }
   ],
   "source": [
    "d2"
   ]
  },
  {
   "cell_type": "code",
   "execution_count": null,
   "id": "9ed77e5e-6d08-4aa3-b5ed-dae147c34aa5",
   "metadata": {},
   "outputs": [],
   "source": []
  }
 ],
 "metadata": {
  "kernelspec": {
   "display_name": "Python 3 (ipykernel)",
   "language": "python",
   "name": "python3"
  },
  "language_info": {
   "codemirror_mode": {
    "name": "ipython",
    "version": 3
   },
   "file_extension": ".py",
   "mimetype": "text/x-python",
   "name": "python",
   "nbconvert_exporter": "python",
   "pygments_lexer": "ipython3",
   "version": "3.10.6"
  }
 },
 "nbformat": 4,
 "nbformat_minor": 5
}
