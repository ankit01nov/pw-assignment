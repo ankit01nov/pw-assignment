{
 "cells": [
  {
   "cell_type": "code",
   "execution_count": null,
   "id": "74737349-3311-4e9a-9a23-6a512b8e5e37",
   "metadata": {},
   "outputs": [],
   "source": [
    "#29 jan assignment answers\n",
    "\n",
    "Ans1. Guido van Rossum"
   ]
  },
  {
   "cell_type": "code",
   "execution_count": null,
   "id": "30204d80-4fb0-40c7-893a-1b5486e36a8b",
   "metadata": {},
   "outputs": [],
   "source": [
    "Ans2. Object oriented programming and structured programming"
   ]
  },
  {
   "cell_type": "code",
   "execution_count": null,
   "id": "d8d67aad-9a7e-449c-bef1-fe6000fc7a31",
   "metadata": {},
   "outputs": [],
   "source": [
    "Ans3. yes"
   ]
  },
  {
   "cell_type": "code",
   "execution_count": null,
   "id": "da846f68-5863-41b6-bba4-cb3759aa4811",
   "metadata": {},
   "outputs": [],
   "source": [
    "Ans4. \" .py \""
   ]
  },
  {
   "cell_type": "code",
   "execution_count": null,
   "id": "e2c4692f-0f6f-4278-ac86-eca1dd1543a7",
   "metadata": {},
   "outputs": [],
   "source": [
    "Ans5. Interpreted "
   ]
  },
  {
   "cell_type": "code",
   "execution_count": null,
   "id": "5dc8570e-d454-4adb-bca0-71589b084cb7",
   "metadata": {},
   "outputs": [],
   "source": [
    "Ans6. A module, a function body, and a class definition"
   ]
  },
  {
   "cell_type": "code",
   "execution_count": null,
   "id": "8c669c0a-0093-40dd-99df-cb246d002388",
   "metadata": {},
   "outputs": [],
   "source": [
    "Ans7. Hash symbol \" # \""
   ]
  },
  {
   "cell_type": "code",
   "execution_count": null,
   "id": "e136b773-eec2-45c5-8b56-21f714b3ac42",
   "metadata": {},
   "outputs": [],
   "source": [
    "Ans8. print(sys.version)"
   ]
  },
  {
   "cell_type": "code",
   "execution_count": null,
   "id": "41f4cbb4-1264-4248-bc7f-34f8e5eb8262",
   "metadata": {},
   "outputs": [],
   "source": [
    "Ans9. Lambda"
   ]
  },
  {
   "cell_type": "code",
   "execution_count": null,
   "id": "12d95623-89e2-4d3e-959a-d1f7e669d13a",
   "metadata": {},
   "outputs": [],
   "source": [
    "Ans10. preferred installer program"
   ]
  },
  {
   "cell_type": "code",
   "execution_count": null,
   "id": "f157bef4-0357-4e97-8d27-29a948b7daeb",
   "metadata": {},
   "outputs": [],
   "source": [
    "Ans11. len() , range() , type ()"
   ]
  },
  {
   "cell_type": "code",
   "execution_count": null,
   "id": "d8c822ed-0caf-434c-aa4c-7a3ef08c474b",
   "metadata": {},
   "outputs": [],
   "source": [
    "Ans12. Identifiers can be of any length."
   ]
  },
  {
   "cell_type": "code",
   "execution_count": null,
   "id": "e2d6f511-c7ad-4732-9a7e-70d617fc19d3",
   "metadata": {},
   "outputs": [],
   "source": [
    "Ans13. Extensive libraries , python has very concise syntax ,it is self type language"
   ]
  },
  {
   "cell_type": "code",
   "execution_count": null,
   "id": "0ba361f9-5b71-4f45-a61f-90afa0fc3fa3",
   "metadata": {},
   "outputs": [],
   "source": [
    "Ans14.memory is managed by garbage collection .it is a process in which the interpreter frees up the memory when not in use to make it available for other objects"
   ]
  },
  {
   "cell_type": "code",
   "execution_count": null,
   "id": "341c14f8-f2ce-496d-ace0-f7d807dde6f3",
   "metadata": {},
   "outputs": [],
   "source": [
    "Ans15. download and run installer and select “Install for all users,” and then click “Next.” ,On the directory selection screen, leave the directory as “Python27” and click “Next.”On the customization screen, scroll down, click “Add python.exe to Path,” and then select “Will be installed on local hard drive.” When you’re done, click “Next.”ust click through the wizard to complete the installation.\n",
    "set pathe variable- right-click on This PC, and select Properties. Once in the properties menu, click on the Advanced system settings option. In the next window, select the Advanced tab, and select Environment Variables ."
   ]
  },
  {
   "cell_type": "code",
   "execution_count": null,
   "id": "a6941291-721c-4b5b-9fbd-a6c90328aa2e",
   "metadata": {},
   "outputs": [],
   "source": [
    "Ans16. yes indentation is required in python ."
   ]
  }
 ],
 "metadata": {
  "kernelspec": {
   "display_name": "Python 3 (ipykernel)",
   "language": "python",
   "name": "python3"
  },
  "language_info": {
   "codemirror_mode": {
    "name": "ipython",
    "version": 3
   },
   "file_extension": ".py",
   "mimetype": "text/x-python",
   "name": "python",
   "nbconvert_exporter": "python",
   "pygments_lexer": "ipython3",
   "version": "3.10.6"
  }
 },
 "nbformat": 4,
 "nbformat_minor": 5
}
